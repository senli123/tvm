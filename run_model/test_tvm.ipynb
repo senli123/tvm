{
 "cells": [
  {
   "cell_type": "code",
   "execution_count": 5,
   "metadata": {},
   "outputs": [
    {
     "name": "stdout",
     "output_type": "stream",
     "text": [
      "meta[relay.Constant][0]\n",
      "\n"
     ]
    }
   ],
   "source": [
    "import numpy as np\n",
    "import tvm\n",
    "from tvm.relay import expr as _expr\n",
    "indices = np.array([3,4])\n",
    "indices = _expr.const(indices)\n",
    "print(indices)"
   ]
  },
  {
   "cell_type": "code",
   "execution_count": 1,
   "metadata": {},
   "outputs": [
    {
     "name": "stderr",
     "output_type": "stream",
     "text": [
      "C:\\Users\\senli\\AppData\\Local\\Temp\\ipykernel_14048\\1363731462.py:4: UserWarning: torch.range is deprecated and will be removed in a future release because its behavior is inconsistent with Python's range builtin. Instead, use torch.arange, which produces values in [start, end).\n",
      "  x = torch.range(0,26).view(1, 3, 3, 3)\n"
     ]
    },
    {
     "name": "stdout",
     "output_type": "stream",
     "text": [
      "Original tensor:\n",
      "tensor([[[[ 0.,  1.,  2.],\n",
      "          [ 3.,  4.,  5.],\n",
      "          [ 6.,  7.,  8.]],\n",
      "\n",
      "         [[ 9., 10., 11.],\n",
      "          [12., 13., 14.],\n",
      "          [15., 16., 17.]],\n",
      "\n",
      "         [[18., 19., 20.],\n",
      "          [21., 22., 23.],\n",
      "          [24., 25., 26.]]]])\n",
      "\n",
      "Unfolded tensor:\n",
      "tensor([[[ 0.,  1.,  3.,  4.],\n",
      "         [ 1.,  2.,  4.,  5.],\n",
      "         [ 3.,  4.,  6.,  7.],\n",
      "         [ 4.,  5.,  7.,  8.],\n",
      "         [ 9., 10., 12., 13.],\n",
      "         [10., 11., 13., 14.],\n",
      "         [12., 13., 15., 16.],\n",
      "         [13., 14., 16., 17.],\n",
      "         [18., 19., 21., 22.],\n",
      "         [19., 20., 22., 23.],\n",
      "         [21., 22., 24., 25.],\n",
      "         [22., 23., 25., 26.]]])\n",
      "Unfolded tensor shape: torch.Size([1, 12, 4])\n"
     ]
    }
   ],
   "source": [
    "import torch  \n",
    "import torch.nn as nn\n",
    "# 创建一个示例张量  \n",
    "x = torch.range(0,26).view(1, 3, 3, 3) \n",
    "print(\"Original tensor:\")  \n",
    "print(x)  \n",
    "  \n",
    "# 使用 unfold 展开张量  \n",
    "unfold = nn.Unfold(kernel_size=(2, 2))  \n",
    "unfolded = unfold(x)\n",
    "print(\"\\nUnfolded tensor:\")  \n",
    "print(unfolded)  \n",
    "print(\"Unfolded tensor shape:\", unfolded.shape)"
   ]
  }
 ],
 "metadata": {
  "kernelspec": {
   "display_name": "Python 3",
   "language": "python",
   "name": "python3"
  },
  "language_info": {
   "codemirror_mode": {
    "name": "ipython",
    "version": 3
   },
   "file_extension": ".py",
   "mimetype": "text/x-python",
   "name": "python",
   "nbconvert_exporter": "python",
   "pygments_lexer": "ipython3",
   "version": "3.9.19"
  }
 },
 "nbformat": 4,
 "nbformat_minor": 2
}
